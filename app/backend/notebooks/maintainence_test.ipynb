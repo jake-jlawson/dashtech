{
 "cells": [
  {
   "cell_type": "code",
   "execution_count": 1,
   "id": "592c48eb",
   "metadata": {},
   "outputs": [],
   "source": [
    "# Add the parent directory to Python path so we can import from core\n",
    "import sys\n",
    "import os\n",
    "# Get the current working directory and go up one level to the backend directory\n",
    "backend_dir = os.path.dirname(os.getcwd())\n",
    "if backend_dir not in sys.path:\n",
    "    sys.path.append(backend_dir)"
   ]
  },
  {
   "cell_type": "code",
   "execution_count": 11,
   "id": "8b57c10f",
   "metadata": {},
   "outputs": [
    {
     "name": "stdout",
     "output_type": "stream",
     "text": [
      "We need to produce JSON with tools, parts, steps, difficulty. Diagnosis: low coolant level due to hose leak. Steps: inspect hoses, replace leaking hose, refill coolant, bleed system, check for leaks again, reset ECU.\n",
      "\n",
      "Tools: socket set, wrenches, coolant flush kit, gauge, possibly drain pan, screwdriver. Parts: replacement hose, coolant (antifreeze), possibly hose clamps.\n",
      "\n",
      "Difficulty maybe 5 or 6. Provide clear steps.{'tools': ['socket set (12‑mm and 14‑mm)', 'hose wrench or adjustable pliers', 'coolant flush kit (drain plug, vacuum pump)', 'coolant level gauge or simple meter', 'drain pan', 'screwdriver set', 'rags / absorbent towels'], 'parts': ['replacement upper radiator hose (or the specific hose that is leaking, see owner’s manual for exact part number)', 'hose clamp (if the original was damaged or missing)', 'high‑quality antifreeze/coolant mix (appropriate for your vehicle’s climate)', 'new coolant reservoir gasket (if you plan to replace the expansion tank)', 'new radiator hose clamp kit (optional, but recommended for long‑term reliability)'], 'steps': ['1. Ensure the engine is completely cool before opening the cooling system to avoid burns.', '2. Place a drain pan under the radiator drain plug. Remove the drain plug and let the old coolant fully drain out. Use the coolant flush kit if a flush is required.', '3. Inspect the upper radiator hose (and lower hose if applicable) for cracks, bulges, or pinholes. Confirm the leak location using a wet rag or by applying water to suspect areas while the engine is cold.', '4. Remove the leaking hose using a hose wrench or adjustable pliers. Carefully loosen the clamp at the radiator outlet and at the thermostat housing or heater core inlet, then pull the hose off. Keep track of the exact orientation and size of the hose for proper reassembly.', '5. Clean the mating surfaces on the radiator and the hose ends with a rag to remove old gasket material and debris. Inspect the radiator mounting brackets for damage; replace if necessary.', '6. Install the new hose: Slide it onto the radiator outlet and the other end onto the thermostat housing (or heater core). Tighten the hose clamps snugly but avoid overtightening to prevent damage. Reattach the clamps using the correct torque specifications from the service manual.', '7. Refill the cooling system with the appropriate coolant mix. Use a coolant level gauge to add the correct amount. If your vehicle has a pressure cap, check that it is seated correctly.', '8. Bleed the cooling system to remove trapped air. Some vehicles require manual bleed screws; others can be bled by running the engine with the radiator cap off and letting the coolant circulate until a steady, clear flow is observed. Refer to the vehicle’s service manual for bleed procedures.', '9. Inspect all hoses, clamps, and the radiator for leaks while the engine warms up to operating temperature. Apply a soap‑water solution to the hose joints to catch any escaping fluid. If leaks are detected, repeat the clamp tightening or replace the hose again.', '10. Once the system is leak‑free, reconnect the radiator drain plug and ensure it is tightened to spec. Check coolant level again and top off if needed.', '11. Clear the diagnostic trouble code (22901-22) from the vehicle’s ECU using a scan tool or by disconnecting the battery for 10 minutes. Confirm that the coolant level warning light turns off after a few driving cycles.', '12. Dispose of the old coolant responsibly: take it to a recycling center or a licensed automotive waste facility. Do not pour it into drains or the environment.'], 'difficulty': 5}\n"
     ]
    }
   ],
   "source": [
    "from core.agents.diagnostics import DiagnosisProbability\n",
    "from core.agents.maintainence import MaintainenceAgent\n",
    "from core.llm import LLMClient\n",
    "\n",
    "llm_client = LLMClient()\n",
    "maintainence_agent = MaintainenceAgent(llm_client)\n",
    "\n",
    "diagnosis: DiagnosisProbability = {\n",
    "    \"diagnosis\": \"Low coolant level / coolant leak — triggering overheat protection\",\n",
    "    \"probability\": 0.82\n",
    "}\n",
    "\n",
    "diagnosis_history = [\n",
    "    {\n",
    "        \"id\": \"test_0\",\n",
    "        \"name\": \"Issue Description\",\n",
    "        \"description\": \"Initial user report\",\n",
    "        \"rationale\": \"\",\n",
    "        \"outcomes\": {},\n",
    "        \"result\": \"Red warning light: coolant level low.\"\n",
    "    },\n",
    "    {\n",
    "        \"id\": \"test_1\",\n",
    "        \"name\": \"Error Codes Present\",\n",
    "        \"description\": \"Scan VIC for coolant level faults.\",\n",
    "        \"rationale\": \"22901-22/23 relate to coolant level sensor out of range.\",\n",
    "        \"outcomes\": {},\n",
    "        \"result\": [\"22901-22\"]\n",
    "    },\n",
    "    {\n",
    "        \"id\": \"test_2\",\n",
    "        \"name\": \"Coolant Level & Leak Check\",\n",
    "        \"description\": \"Inspect expansion tank, hoses, and radiator for leaks.\",\n",
    "        \"rationale\": \"Leaks or evaporation are common causes for warnings.\",\n",
    "        \"outcomes\": {\n",
    "            \"type_of_outcome\": \"string\",\n",
    "            \"outcome_data\": \"possible values: 'tank low, no leak', 'tank low, hose leak', 'level OK'\"\n",
    "        },\n",
    "        \"result\": \"Tank low, hose leak visible\"\n",
    "    }\n",
    "]\n",
    "\n",
    "result = await maintainence_agent.run(\n",
    "    diagnosis_history[:2],\n",
    "    diagnosis, \n",
    "    diagnosis_history,\n",
    ")\n",
    "\n",
    "print(result, flush=True)\n"
   ]
  }
 ],
 "metadata": {
  "kernelspec": {
   "display_name": "venv",
   "language": "python",
   "name": "python3"
  },
  "language_info": {
   "codemirror_mode": {
    "name": "ipython",
    "version": 3
   },
   "file_extension": ".py",
   "mimetype": "text/x-python",
   "name": "python",
   "nbconvert_exporter": "python",
   "pygments_lexer": "ipython3",
   "version": "3.12.6"
  }
 },
 "nbformat": 4,
 "nbformat_minor": 5
}
