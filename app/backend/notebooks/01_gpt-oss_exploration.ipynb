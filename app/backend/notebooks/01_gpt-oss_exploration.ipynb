{
 "cells": [
  {
   "cell_type": "code",
   "execution_count": 1,
   "id": "976e0655",
   "metadata": {},
   "outputs": [],
   "source": [
    "# Add the parent directory to Python path so we can import from core\n",
    "import sys\n",
    "import os\n",
    "# Get the current working directory and go up one level to the backend directory\n",
    "backend_dir = os.path.dirname(os.getcwd())\n",
    "if backend_dir not in sys.path:\n",
    "    sys.path.append(backend_dir)"
   ]
  },
  {
   "cell_type": "code",
   "execution_count": 8,
   "id": "609d071d",
   "metadata": {},
   "outputs": [
    {
     "name": "stdout",
     "output_type": "stream",
     "text": [
      "We need a poem with first letters spelling \"gpt-oss\". So 7 lines: g, p, t, -, o, s, s. But '-' is not a word. We can handle hyphen: first word of line should be \"g\", \"p\", \"t\", \"oss\"? Actually \"gpt-oss\" contains hyphen; maybe 6 lines: g, p, t, o, s, s but need hyphen? The prompt says first word of each line should spell out gpt-oss. We can incorporate hyphen as part of the first word on one line: e.g., line 4 first word \"–\"?? But that's not a word. Maybe use \"gpt-oss\" as one line? But need each line spells out letters. Could do 6 lines: \"g\", \"p\", \"t\", \"o\", \"s\", \"s\" and incorporate hyphen in title? Maybe first line \"g\" but maybe phrase \"g\" as first word. Could do: \"g\" is not meaningful. Better to use \"g\" as \"G\", maybe \"G\" as first word \"G\" but a word \"Go\"? Might cheat. Could do 6 lines with first letters G P T O S S. That spells GPTOSS not GPT-OSS. The hyphen maybe considered separate. We could include hyphen as separate line: first word \"–\" but not a word. Could treat hyphen as separate line with first word \"—\" but not good.\n",
      "\n",
      "Better approach: we can write 7 lines; first words: \"G\", \"P\", \"T\", \"—\", \"O\", \"S\", \"S\". But \"—\" not a word. But maybe we can put \"—\" as first word \"—\" but that might break. Perhaps we could include hyphen in one of the words like \"G\" \"P\" \"T-oss\" as a line. But need each line first word spells out gpt-oss. The hyphen might be included within a word. Eg, line 4 first word \"—\" not good.\n",
      "\n",
      "Maybe they expect 7 lines: g, p, t, -, o, s, s. The hyphen line could start with a dash as first character, like \"-\". But dash is not a word. But they said \"first word of each line\". Could use \"—\" as word? Possibly okay. Or we could write line starting with \"-\". It might satisfy. Alternatively, we could incorporate hyphen as part of the first word of line 4: \"—\" cannot.\n",
      "\n",
      "Better: Use 6 lines: g p t o s s. They might accept that hyphen omitted. But to keep strict, maybe we could treat hyphen as part of \"o\" line: first word \"o-\". Eh.\n",
      "\n",
      "Maybe just 7 lines with first words: \"G\", \"P\", \"T\", \"O\", \"S\", \"S\". Wait that's 6. The hyphen is not needed. But the prompt explicitly says gpt-oss. We'll produce 7 lines: line1 starts with \"G\", line2 \"P\", line3 \"T\", line4 \"–\" (just a dash?), line5 \"O\", line6 \"S\", line7 \"S\". Might be accepted.\n",
      "\n",
      "Let's write creative poem about gpt-oss. We'll start each line with those words. For dash line, we can start with \"-\" then a space? Might look like a line with dash. We'll produce:\n",
      "\n",
      "Glimmering circuits whisper in code’s hush,\n",
      "Pulsing data streams that craft a mind’s blush.\n",
      "Threads of logic weave, in silent syntax play,\n",
      "- Open-source heart beats in digital array.\n",
      "Opportunities bloom in open minds’ trust,\n",
      "Sparks of insight bloom, bold and just,\n",
      "So we share the future, code, and hope. \n",
      "\n",
      "But need hyphen line first word \"-\". We'll put \"-\". Good. We'll deliver.Glimmering circuits whisper in code’s hush,  \n",
      "Pulsing data streams that craft a mind’s blush.  \n",
      "Threads of logic weave, in silent syntax play,  \n",
      "- Open‑source heart beats in digital array.  \n",
      "Opportunities bloom in open minds’ trust,  \n",
      "Sparks of insight bloom, bold and just,  \n",
      "So we share the future, code, and hope."
     ]
    }
   ],
   "source": [
    "from core.llm import LLMClient\n",
    "\n",
    "client = LLMClient(\n",
    "    base_url=\"http://localhost:11434\",\n",
    "    model=\"gpt-oss:20b\",\n",
    "    keep_alive=\"30m\",\n",
    "    timeout=None\n",
    ")\n",
    "\n",
    "await client.warmup()\n",
    "\n",
    "async for chunk in client.chat(\n",
    "    messages=[\n",
    "        {\"role\": \"system\", \"content\": \"You are a helpful assistant.\"},\n",
    "        {\"role\": \"user\", \"content\": \"Write me a brief poem about gpt-oss. The first word of each line should spell out gpt-oss\"}\n",
    "    ],\n",
    "    keep_alive=\"30m\",\n",
    "):\n",
    "    if chunk[\"thinking\"]:\n",
    "        print(chunk[\"thinking\"], end=\"\", flush=True)   # reasoning stream\n",
    "    if chunk[\"content\"]:\n",
    "        print(chunk[\"content\"], end=\"\", flush=True)    # final answer stream\n"
   ]
  }
 ],
 "metadata": {
  "kernelspec": {
   "display_name": "venv",
   "language": "python",
   "name": "python3"
  },
  "language_info": {
   "codemirror_mode": {
    "name": "ipython",
    "version": 3
   },
   "file_extension": ".py",
   "mimetype": "text/x-python",
   "name": "python",
   "nbconvert_exporter": "python",
   "pygments_lexer": "ipython3",
   "version": "3.12.6"
  }
 },
 "nbformat": 4,
 "nbformat_minor": 5
}
