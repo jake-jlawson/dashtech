{
 "cells": [
  {
   "cell_type": "code",
   "execution_count": 2,
   "id": "55489aa4",
   "metadata": {},
   "outputs": [],
   "source": [
    "# Add the parent directory to Python path so we can import from core\n",
    "import sys\n",
    "import os\n",
    "# Get the current working directory and go up one level to the backend directory\n",
    "backend_dir = os.path.dirname(os.getcwd())\n",
    "if backend_dir not in sys.path:\n",
    "    sys.path.append(backend_dir)"
   ]
  },
  {
   "cell_type": "code",
   "execution_count": 3,
   "id": "71e34977",
   "metadata": {},
   "outputs": [
    {
     "name": "stdout",
     "output_type": "stream",
     "text": [
      "Ingesting message: id='f04b2014-eeae-4d45-b181-d633c7bdf523' type='issue.begin' v=1 issue_id='838751eb-f3a8-4625-8beb-38e4040bdd90' payload={'id': 'test_1', 'name': 'Issue Description', 'description': 'This is the issue description initially given by the user.', 'rationale': '', 'outcomes': {}, 'result': \"My truck revs up when I put the keys in the ignition but it won't start.\"} meta={'ts': '2025-09-11T18:55:20.084229', 'source': 'system'} ts='2025-09-11T18:55:20.084229' source='test'\n",
      "Executing handler for event type: issue.begin\n"
     ]
    },
    {
     "name": "stderr",
     "output_type": "stream",
     "text": [
      "C:\\Users\\jakej\\AppData\\Local\\Temp\\ipykernel_11820\\3192048691.py:27: DeprecationWarning: datetime.datetime.utcnow() is deprecated and scheduled for removal in a future version. Use timezone-aware objects to represent datetimes in UTC: datetime.datetime.now(datetime.UTC).\n",
      "  \"ts\": datetime.datetime.utcnow().isoformat(),\n"
     ]
    },
    {
     "name": "stdout",
     "output_type": "stream",
     "text": [
      "We have no prior hypotheses. We need to create a list of possible issues that could cause: truck revs up (idle) when key in ignition but won't start. That's a common symptom of starting issues: battery, alternator, starter, fuel, spark, etc. We should assign initial probabilities. Use simple estimation. Let's create plausible hypotheses: \"Bad Starter\", \"Weak Battery\", \"Fuel Pump Failure\", \"Ignition Coil Failure\", \"Bad Spark Plugs\", \"Engine Seized\", \"Low Engine Oil\", \"Faulty Ignition Switch\". Provide short descriptions. Assign base probability scores: maybe use 1.0 as base for each? But we need unnormalized scores. Could give different initial scores. For example:\n",
      "\n",
      "- Bad Starter: 1.5\n",
      "- Weak Battery: 1.2\n",
      "- Fuel Pump Failure: 1.0\n",
      "- Ignition Coil Failure: 0.8\n",
      "- Bad Spark Plugs: 0.6\n",
      "- Engine Seized: 0.5\n",
      "- Low Engine Oil: 0.4\n",
      "- Faulty Ignition Switch: 0.3\n",
      "\n",
      "We have only one test, the issue description. That test provides some support for many. The outcome \"revs up when I put the keys in the ignition but won't start.\" This suggests maybe the starter is not engaging? But revs up indicates engine crank? Actually revs up means the engine cranks? In many trucks, if you turn key, the engine cranks (revs) but doesn't start. That could be fuel or spark. So \"Fuel Pump Failure\" or \"Ignition Coil\" get strong support. The battery might still be fine because engine cranking indicates battery ok. But maybe battery low but still cranking? Usually low battery can still crank? Might be some contradiction for weak battery? Not sure.\n",
      "\n",
      "Let's decide test result provides strong support for \"Fuel Pump Failure\" and \"Ignition Coil Failure\". Some support for \"Bad Starter\" (but starter would not crank). Actually the engine revs means starter is engaged. So \"Bad Starter\" is contradicted. So we apply strong contradiction ×0.5 for that hypothesis. For \"Weak Battery\" maybe neutral? Because engine cranks, battery probably ok, but could still be low? But not strong contradiction. We can set neutral. For others, assign support.\n",
      "\n",
      "But we only need to update probabilities from the current test. The rules: Multiply each hypothesis by factor depending on test result: strong support ×2.0; some support ×1.2; neutral ×1.0; some contradiction ×0.8; strong contradiction ×0.5.\n",
      "\n",
      "So we need to decide for each hypothesis factor.\n",
      "\n",
      "Let's define support:\n",
      "\n",
      "- Fuel Pump Failure: strong support (engine revs but won't start suggests lack of fuel). ×2.0\n",
      "- Ignition Coil Failure: strong support (no spark). ×2.0\n",
      "- Bad Spark Plugs: some support. ×1.2\n",
      "- Bad Starter: strong contradiction (starter would not engage). ×0.5\n",
      "- Weak Battery: neutral (since cranking suggests okay). ×1.0\n",
      "- Engine Seized: some contradiction? Engine revs implies not seized. So contradiction. Some contradiction ×0.8\n",
      "- Low Engine Oil: contradiction? No relation. Neutral. ×1.0\n",
      "- Faulty Ignition Switch: contradiction? Might cause no start but cranking? But ignition switch is turning key. If faulty might not crank. So contradiction. ×0.8\n",
      "\n",
      "Now compute updated probabilities.\n",
      "\n",
      "Initial scores: assign base.\n",
      "\n",
      "Let's choose initial probabilities as:\n",
      "\n",
      "Fuel Pump Failure: 1.0\n",
      "Ignition Coil Failure: 1.0\n",
      "Bad Spark Plugs: 0.8\n",
      "Bad Starter: 0.5\n",
      "Weak Battery: 0.5\n",
      "Engine Seized: 0.3\n",
      "Low Engine Oil: 0.2\n",
      "Faulty Ignition Switch: 0.2\n",
      "\n",
      "Now apply multipliers.\n",
      "\n",
      "Fuel Pump Failure: 1.0 * 2.0 = 2.0\n",
      "Ignition Coil Failure: 1.0 * 2.0 = 2.0\n",
      "Bad Spark Plugs: 0.8 * 1.2 = 0.96\n",
      "Bad Starter: 0.5 * 0.5 = 0.25\n",
      "Weak Battery: 0.5 * 1.0 = 0.5\n",
      "Engine Seized: 0.3 * 0.8 = 0.24\n",
      "Low Engine Oil: 0.2 * 1.0 = 0.2\n",
      "Faulty Ignition Switch: 0.2 * 0.8 = 0.16\n",
      "\n",
      "Now we need next test. Choose test to differentiate between fuel pump and ignition coil. A good test: \"Check fuel pressure at the fuel rail.\" If pressure low, fuel pump failure. If pressure fine, then ignition coil. Or \"Spark test\" with a spark tester. Let's choose \"Fuel Pressure Test\" as next test. It's a single step, gives clear outcome. Provide rationale: will reveal if fuel is getting to engine. Outcomes: \"normal\" or \"low\" or \"none\" etc. Provide outcome type string. Provide outcome data maybe \"normal\", \"low\", \"none\".\n",
      "\n",
      "We need JSON with fields.\n",
      "\n",
      "We'll output updated_probabilities as array of objects with issue and probability.\n",
      "\n",
      "We'll set next_test with fields.\n",
      "\n",
      "Let's craft output.Probabilities Updated: [{'issue': 'Fuel Pump Failure', 'probability': 2.0}, {'issue': 'Ignition Coil Failure', 'probability': 2.0}, {'issue': 'Bad Spark Plugs', 'probability': 0.96}, {'issue': 'Weak Battery', 'probability': 0.5}, {'issue': 'Bad Starter', 'probability': 0.25}, {'issue': 'Engine Seized', 'probability': 0.24}, {'issue': 'Low Engine Oil', 'probability': 0.2}, {'issue': 'Faulty Ignition Switch', 'probability': 0.16}]\n",
      "Next Test: {'name': 'fuel_pressure_test', 'description': 'Connect a fuel pressure gauge to the fuel rail and record the pressure while cranking the engine. The gauge should show a steady reading (typically 50-80 psi for diesel).', 'rationale': 'A low or absent fuel pressure indicates a fuel pump or supply line issue, while normal pressure points away from fuel delivery problems and suggests a spark or ignition problem.', 'outcomes': {'type_of_outcome': 'string', 'outcome_data': ['normal', 'low', 'none']}, 'result': None}\n",
      "We need to output JSON with fields: test_text, test_instructions array, test_result_field_label, test_result_field_type, test_result_field_options (since outcomes: normal, low, none; type_of_outcome string). Provide safety and warnings. Provide maybe blank fields where not needed.\n",
      "\n",
      "We need to format test_instructions: steps. We need to mention connecting gauge, cranking, recording pressure. Test_text: initial message.\n",
      "\n",
      "Return JSON exactly.\n",
      "\n",
      "Let's craft."
     ]
    },
    {
     "ename": "CancelledError",
     "evalue": "",
     "output_type": "error",
     "traceback": [
      "\u001b[31m---------------------------------------------------------------------------\u001b[39m",
      "\u001b[31mCancelledError\u001b[39m                            Traceback (most recent call last)",
      "\u001b[36mCell\u001b[39m\u001b[36m \u001b[39m\u001b[32mIn[3]\u001b[39m\u001b[32m, line 33\u001b[39m\n\u001b[32m     14\u001b[39m issue.ingest({\n\u001b[32m     15\u001b[39m     \u001b[33m\"\u001b[39m\u001b[33mid\u001b[39m\u001b[33m\"\u001b[39m: \u001b[38;5;28mstr\u001b[39m(uuid.uuid4()),\n\u001b[32m     16\u001b[39m     \u001b[33m\"\u001b[39m\u001b[33mtype\u001b[39m\u001b[33m\"\u001b[39m: \u001b[33m\"\u001b[39m\u001b[33missue.begin\u001b[39m\u001b[33m\"\u001b[39m,\n\u001b[32m   (...)\u001b[39m\u001b[32m     29\u001b[39m     }\n\u001b[32m     30\u001b[39m })\n\u001b[32m     32\u001b[39m \u001b[38;5;66;03m# Keep the notebook cell alive briefly to stream prints from tasks\u001b[39;00m\n\u001b[32m---> \u001b[39m\u001b[32m33\u001b[39m \u001b[38;5;28;01mawait\u001b[39;00m asyncio.sleep(\u001b[32m600\u001b[39m)\n\u001b[32m     35\u001b[39m \u001b[38;5;28;01mawait\u001b[39;00m issue.stop()\n",
      "\u001b[36mFile \u001b[39m\u001b[32mC:\\Python312\\Lib\\asyncio\\tasks.py:665\u001b[39m, in \u001b[36msleep\u001b[39m\u001b[34m(delay, result)\u001b[39m\n\u001b[32m    661\u001b[39m h = loop.call_later(delay,\n\u001b[32m    662\u001b[39m                     futures._set_result_unless_cancelled,\n\u001b[32m    663\u001b[39m                     future, result)\n\u001b[32m    664\u001b[39m \u001b[38;5;28;01mtry\u001b[39;00m:\n\u001b[32m--> \u001b[39m\u001b[32m665\u001b[39m     \u001b[38;5;28;01mreturn\u001b[39;00m \u001b[38;5;28;01mawait\u001b[39;00m future\n\u001b[32m    666\u001b[39m \u001b[38;5;28;01mfinally\u001b[39;00m:\n\u001b[32m    667\u001b[39m     h.cancel()\n",
      "\u001b[31mCancelledError\u001b[39m: "
     ]
    }
   ],
   "source": [
    "import asyncio, datetime, uuid\n",
    "from core.issue import IssueContext\n",
    "from core.llm import LLMClient\n",
    "\n",
    "llm_client = LLMClient()\n",
    "issue = IssueContext(llm_client)\n",
    "\n",
    "issue.start()\n",
    "\n",
    "# Let background tasks spin up without blocking the event loop\n",
    "await asyncio.sleep(1)\n",
    "\n",
    "# send a message to the issue\n",
    "issue.ingest({\n",
    "    \"id\": str(uuid.uuid4()),\n",
    "    \"type\": \"issue.begin\",\n",
    "    \"payload\": {\n",
    "        \"id\": \"test_1\",\n",
    "        \"name\": \"Issue Description\",\n",
    "        \"description\": \"This is the issue description initially given by the user.\",\n",
    "        \"rationale\": \"\",\n",
    "        \"outcomes\": {},\n",
    "        \"result\": \"My truck revs up when I put the keys in the ignition but it won't start.\"\n",
    "    },\n",
    "    \"issue_id\": issue.id,\n",
    "    \"meta\": {\n",
    "        \"ts\": datetime.datetime.utcnow().isoformat(),\n",
    "        \"source\": \"system\"\n",
    "    }\n",
    "})\n",
    "\n",
    "# Keep the notebook cell alive briefly to stream prints from tasks\n",
    "await asyncio.sleep(600)\n",
    "\n",
    "await issue.stop()\n",
    "\n"
   ]
  }
 ],
 "metadata": {
  "kernelspec": {
   "display_name": "venv",
   "language": "python",
   "name": "python3"
  },
  "language_info": {
   "codemirror_mode": {
    "name": "ipython",
    "version": 3
   },
   "file_extension": ".py",
   "mimetype": "text/x-python",
   "name": "python",
   "nbconvert_exporter": "python",
   "pygments_lexer": "ipython3",
   "version": "3.12.6"
  }
 },
 "nbformat": 4,
 "nbformat_minor": 5
}
