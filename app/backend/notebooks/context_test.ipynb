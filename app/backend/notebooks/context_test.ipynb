{
 "cells": [
  {
   "cell_type": "code",
   "execution_count": 1,
   "id": "55489aa4",
   "metadata": {},
   "outputs": [],
   "source": [
    "# Add the parent directory to Python path so we can import from core\n",
    "import sys\n",
    "import os\n",
    "# Get the current working directory and go up one level to the backend directory\n",
    "backend_dir = os.path.dirname(os.getcwd())\n",
    "if backend_dir not in sys.path:\n",
    "    sys.path.append(backend_dir)"
   ]
  },
  {
   "cell_type": "code",
   "execution_count": null,
   "id": "71e34977",
   "metadata": {},
   "outputs": [
    {
     "name": "stdout",
     "output_type": "stream",
     "text": [
      "Executing handler for event type: issue.begin\n"
     ]
    },
    {
     "name": "stderr",
     "output_type": "stream",
     "text": [
      "C:\\Users\\jakej\\AppData\\Local\\Temp\\ipykernel_6092\\3192048691.py:27: DeprecationWarning: datetime.datetime.utcnow() is deprecated and scheduled for removal in a future version. Use timezone-aware objects to represent datetimes in UTC: datetime.datetime.now(datetime.UTC).\n",
      "  \"ts\": datetime.datetime.utcnow().isoformat(),\n"
     ]
    },
    {
     "name": "stdout",
     "output_type": "stream",
     "text": [
      "We have initial scenario: issue description: truck revs up when keys in ignition but won't start. Need to produce initial updated_probabilities: we have no prior hypotheses. We must generate plausible issues. Use test result: revs up but won't start suggests battery, alternator, starter, fuel, ignition, engine mechanical. So hypotheses: battery failure, faulty starter solenoid, bad spark plugs, clogged fuel filter, failed fuel pump, ignition coil failure, ECU issue, immobilizer, etc.\n",
      "\n",
      "We need to update probabilities based on test result. Since it's first test, we consider initial scores based on how often seen? Use prior probabilities? We'll assign baseline 1.0 for each.\n",
      "\n",
      "But rule: Update probabilities using multiplicative scoring rule based ONLY on most recent test. For each hypothesis, apply factor: need to determine support/contradiction. Test result: revs up but won't start. That supports battery? Wait battery is the cause of no start: battery dead? But revs up means engine cranks? Actually revs up: the engine revs up when keys in ignition but will not start. If the starter is cranking, then battery is likely ok. But if battery is weak, engine may not start. But revs up suggests cranking. So test result supports: Starter motor fine? Actually if the starter works, battery is likely fine. So battery failure contradicted. Starter failure supported? If starter is defective, engine may not crank, but here it revs up. So starter fine. So this test outcome likely supports ignition, fuel, or mechanical issues. So we need to decide for each hypothesis factor.\n",
      "\n",
      "We can approximate: Battery failure: contradiction -> ×0.5 (strong contradiction). Starter failure: contradiction -> ×0.5. Fuel pump failure: support -> ×2.0 (strong support). Ignition coil failure: support -> ×2.0. Spark plug: support -> ×2.0. ECU: some support? Maybe neutral. Immoblizer: contradiction? maybe neutral.\n",
      "\n",
      "We'll list hypotheses with probabilities. We'll start baseline 1.0 each. Then apply factors. So new scores: Battery: 0.5. Starter:0.5. Fuel pump:2.0. Ignition coil:2.0. Spark plugs:2.0. ECU:1.0. Immobilizer:1.0. Perhaps add \"cylinder compression failure\" support:2.0.\n",
      "\n",
      "Also \"cylinder head gasket leak\" support:2.0.\n",
      "\n",
      "Let's decide.\n",
      "\n",
      "Now produce updated_probabilities array.\n",
      "\n",
      "Next test: choose test that gives most info with least effort. The current likely issues: fuel pump, ignition coil, spark plugs, compression. A good test: \"Check fuel pressure with gauge\" or \"Check spark at one cylinder\". The easiest maybe \"Check if the engine cranks smoothly and if fuel pump is heard\" But we want to confirm fuel. Perhaps ask user to listen to fuel pump.\n",
      "\n",
      "But test could be \"Perform a fuel pressure test at the fuel rail\" to see if fuel is reaching engine. That would differentiate fuel pump vs ignition issues. That's a common test.\n",
      "\n",
      "But to be simpler, a test: \"Does the engine crank normally? (listening to starter)\". But we already know revs up. Next step: \"Check if the engine starts after applying spark\" but no.\n",
      "\n",
      "We can propose: \"Check spark at cylinder 1 using spark tester\". That will tell if ignition is present. But also expensive? Could be done by user with tool? Might be more complex.\n",
      "\n",
      "Fuel pressure test is more straightforward: use gauge. That reveals if fuel pump is functioning.\n",
      "\n",
      "Let's choose: name: \"Fuel Pressure Test\", description: measure fuel pressure at rail while cranking; outcome type: number, outcome_data: expected range 40-60 psi. Rationale: if pressure low, indicates pump/ filter issues; if good, then ignition problem.\n",
      "\n",
      "So we output next_test accordingly.\n",
      "\n",
      "We need to format JSON exactly. Let's produce updated_probabilities array sorted maybe by descending probability. We'll include probabilities as numbers. We'll not normalize. So list:\n",
      "\n",
      "Battery: 0.5\n",
      "Starter: 0.5\n",
      "Fuel Pump: 2.0\n",
      "Ignition Coil: 2.0\n",
      "Spark Plugs: 2.0\n",
      "Compression: 2.0\n",
      "Head Gasket: 2.0\n",
      "ECU: 1.0\n",
      "Immobilizer: 1.0\n",
      "\n",
      "We might limit to 10 or less. Ok.\n",
      "\n",
      "Now output.Probabilities Updated: [{'issue': 'fuel pump failure', 'probability': 2.0}, {'issue': 'ignition coil failure', 'probability': 2.0}, {'issue': 'spark plug failure', 'probability': 2.0}, {'issue': 'cylinder compression failure', 'probability': 2.0}, {'issue': 'head gasket leak', 'probability': 2.0}, {'issue': 'battery failure', 'probability': 0.5}, {'issue': 'starter motor failure', 'probability': 0.5}, {'issue': 'engine control unit (ECU) issue', 'probability': 1.0}, {'issue': 'immobilizer lockout', 'probability': 1.0}]\n",
      "Next Test: {'name': 'fuel_pressure_test', 'description': 'Attach a fuel pressure gauge to the fuel rail and cranking the engine to measure fuel pressure. A healthy pump should read 40–60 psi while cranking.', 'rationale': 'If fuel pressure is low or absent, the problem is likely the fuel pump or fuel delivery system. Normal pressure indicates that ignition-related issues (spark, coil, plugs) or mechanical compression problems are the next likely culprits.', 'outcomes': {'type_of_outcome': 'number', 'outcome_data': 'fuel pressure in psi (expected 40–60 psi while cranking)'}, 'result': None}\n",
      "We"
     ]
    },
    {
     "ename": "CancelledError",
     "evalue": "",
     "output_type": "error",
     "traceback": [
      "\u001b[31m---------------------------------------------------------------------------\u001b[39m",
      "\u001b[31mCancelledError\u001b[39m                            Traceback (most recent call last)",
      "\u001b[36mCell\u001b[39m\u001b[36m \u001b[39m\u001b[32mIn[3]\u001b[39m\u001b[32m, line 33\u001b[39m\n\u001b[32m     14\u001b[39m issue.ingest({\n\u001b[32m     15\u001b[39m     \u001b[33m\"\u001b[39m\u001b[33mid\u001b[39m\u001b[33m\"\u001b[39m: \u001b[38;5;28mstr\u001b[39m(uuid.uuid4()),\n\u001b[32m     16\u001b[39m     \u001b[33m\"\u001b[39m\u001b[33mtype\u001b[39m\u001b[33m\"\u001b[39m: \u001b[33m\"\u001b[39m\u001b[33missue.begin\u001b[39m\u001b[33m\"\u001b[39m,\n\u001b[32m   (...)\u001b[39m\u001b[32m     29\u001b[39m     }\n\u001b[32m     30\u001b[39m })\n\u001b[32m     32\u001b[39m \u001b[38;5;66;03m# Keep the notebook cell alive briefly to stream prints from tasks\u001b[39;00m\n\u001b[32m---> \u001b[39m\u001b[32m33\u001b[39m \u001b[38;5;28;01mawait\u001b[39;00m asyncio.sleep(\u001b[32m600\u001b[39m)\n\u001b[32m     35\u001b[39m \u001b[38;5;28;01mawait\u001b[39;00m issue.stop()\n",
      "\u001b[36mFile \u001b[39m\u001b[32mC:\\Python312\\Lib\\asyncio\\tasks.py:665\u001b[39m, in \u001b[36msleep\u001b[39m\u001b[34m(delay, result)\u001b[39m\n\u001b[32m    661\u001b[39m h = loop.call_later(delay,\n\u001b[32m    662\u001b[39m                     futures._set_result_unless_cancelled,\n\u001b[32m    663\u001b[39m                     future, result)\n\u001b[32m    664\u001b[39m \u001b[38;5;28;01mtry\u001b[39;00m:\n\u001b[32m--> \u001b[39m\u001b[32m665\u001b[39m     \u001b[38;5;28;01mreturn\u001b[39;00m \u001b[38;5;28;01mawait\u001b[39;00m future\n\u001b[32m    666\u001b[39m \u001b[38;5;28;01mfinally\u001b[39;00m:\n\u001b[32m    667\u001b[39m     h.cancel()\n",
      "\u001b[31mCancelledError\u001b[39m: "
     ]
    },
    {
     "name": "stdout",
     "output_type": "stream",
     "text": [
      " need to output JSON with fields test_text, test_instructions, etc. The test description: attach fuel pressure gauge to rail and crank to measure. So instructions: step 1: locate fuel rail. step 2: attach gauge. step 3: start engine. step 4: record pressure. Also safety warnings: don't get near hot engine, keep gauge stable, etc. Output result field: \"Fuel pressure (psi)\" type number.\n",
      "\n",
      "So produce JSON: \"test_text\": maybe \"Fuel Pressure Test\". \"test_instructions\": array of step objects with step_number and step_text.\n",
      "\n",
      "We can include test_result_field_label: \"Fuel pressure (psi)\". test_result_field_type: \"number\". test_result_field_options: none. safety_and_warnings: array.\n",
      "\n",
      "We might leave test_result_field_options blank. So JSON.\n",
      "\n",
      "Return only JSON."
     ]
    }
   ],
   "source": [
    "import asyncio, datetime, uuid\n",
    "from core.issue import IssueContext\n",
    "from core.llm import LLMClient\n",
    "\n",
    "llm_client = LLMClient()\n",
    "issue = IssueContext(llm_client)\n",
    "\n",
    "issue.start()\n",
    "\n",
    "# Let background tasks spin up without blocking the event loop\n",
    "await asyncio.sleep(1)\n",
    "\n",
    "# send a message to the issue\n",
    "issue.ingest({\n",
    "    \"id\": str(uuid.uuid4()),\n",
    "    \"type\": \"issue.begin\",\n",
    "    \"payload\": {\n",
    "        \"id\": \"test_1\",\n",
    "        \"name\": \"Issue Description\",\n",
    "        \"description\": \"This is the issue description initially given by the user.\",\n",
    "        \"rationale\": \"\",\n",
    "        \"outcomes\": {},\n",
    "        \"result\": \"My truck revs up when I put the keys in the ignition but it won't start.\"\n",
    "    },\n",
    "    \"issue_id\": issue.id,\n",
    "    \"meta\": {\n",
    "        \"ts\": datetime.datetime.utcnow().isoformat(),\n",
    "        \"source\": \"system\"\n",
    "    }\n",
    "})\n",
    "\n",
    "# Keep the notebook cell alive briefly to stream prints from tasks\n",
    "await asyncio.sleep(600)\n",
    "\n",
    "await issue.stop()\n",
    "\n"
   ]
  }
 ],
 "metadata": {
  "kernelspec": {
   "display_name": "venv",
   "language": "python",
   "name": "python3"
  },
  "language_info": {
   "codemirror_mode": {
    "name": "ipython",
    "version": 3
   },
   "file_extension": ".py",
   "mimetype": "text/x-python",
   "name": "python",
   "nbconvert_exporter": "python",
   "pygments_lexer": "ipython3",
   "version": "3.12.6"
  }
 },
 "nbformat": 4,
 "nbformat_minor": 5
}
